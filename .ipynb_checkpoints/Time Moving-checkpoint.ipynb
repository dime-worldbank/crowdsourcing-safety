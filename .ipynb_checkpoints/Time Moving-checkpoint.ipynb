{
 "cells": [
  {
   "cell_type": "code",
   "execution_count": 1,
   "id": "97721075",
   "metadata": {},
   "outputs": [],
   "source": [
    "import os\n",
    "import pandas as pd\n",
    "import numpy as np\n",
    "import datetime\n",
    "#import folium \n",
    "import plotly.express as px\n",
    "import plotly\n",
    "import plotly.graph_objects as go\n",
    "import argparse\n",
    "import pyarrow\n",
    "import pandas as pd\n",
    "import matplotlib.pyplot as plt\n",
    "import seaborn as sns\n",
    "from plotly.subplots import make_subplots\n",
    "import plotly.figure_factory as ff\n",
    "from functools import reduce\n",
    "from datetime import datetime, timedelta, date\n",
    "from numpy import percentile\n",
    "import warnings\n",
    "warnings.filterwarnings('ignore')"
   ]
  },
  {
   "cell_type": "code",
   "execution_count": 8,
   "id": "9d60309e",
   "metadata": {},
   "outputs": [],
   "source": [
    "## This function is defined to:\n",
    "#(1) read each individual vechile file in a certain date folder\n",
    "#(2) calculate total time moving, time moving above 80km/h, and time moving above 100km/h \n",
    "# if the data is not empty in each individual vechile file\n",
    "\n",
    "def time_mov(folder):\n",
    "    temp = pd.DataFrame()\n",
    "    \n",
    "    for i in os.listdir(folder):\n",
    "        i_file = os.path.join(folder,i)\n",
    "        i_data = pd.read_parquet(i_file)\n",
    "        if len(i_data) > 0:\n",
    "            clean_i = data_process(i_data)\n",
    "            agg_stats_i = clean_i.groupby(['day_hr']).apply(lambda x:pd.Series({'time_mov_s': x[x['speed'] > 0]['time_delta'].sum(),\n",
    "                                                     'time_spd80_s': x[x['speed'] >= 80]['time_delta'].sum(),\n",
    "                                                     'time_spd100_s': x[x['speed'] > 100]['time_delta'].sum()})).reset_index()\n",
    "\n",
    "            agg_i = agg_stats_i.merge(clean_i, how = 'left').drop_duplicates(['day_hr','date','time_mov_s','time_spd80_s','time_spd100_s'])\n",
    "        \n",
    "            temp = pd.concat([temp,agg_i])\n",
    "    \n",
    "    return temp"
   ]
  },
  {
   "cell_type": "code",
   "execution_count": 2,
   "id": "2471d2ec",
   "metadata": {},
   "outputs": [],
   "source": [
    "## This function is definde to calculate the time difference in seconds between each data entry \n",
    "def data_process(df):\n",
    "    df = df.sort_values('time_str')\n",
    "    df.time_str = pd.to_datetime(df.time_str, format = \"%Y-%m-%d %H:%M:%S\")\n",
    "    df['date'] = df.time_str.dt.date\n",
    "    df['day_hr'] = df['time_str'].dt.floor('h')\n",
    "    df['time_delta'] = df['time_str'].diff().apply(lambda x:x.total_seconds())\n",
    "    \n",
    "    return df"
   ]
  },
  {
   "cell_type": "code",
   "execution_count": 3,
   "id": "093de40b",
   "metadata": {},
   "outputs": [],
   "source": [
    "## Filepaths\n",
    "if os.getlogin() == 'wb575963':\n",
    "    dropbox = \"C:/Users/wb575963/Dropbox/PSV Rider Feedback\"\n",
    "    dropbox_outputs = \"C:/Users/wb575963/Dropbox/PSV Rider Feedback/Data/Sensor Data/FinalData\"\n",
    "\n",
    "    \n",
    "## Data path\n",
    "data_dir = os.path.join(dropbox, \"Data\")\n",
    "sensor_dir = os.path.join(data_dir, \"Sensor Data\")\n",
    "sensor_raw_dir = os.path.join(sensor_dir, \"RawData\")\n",
    "sensor_final_dir = os.path.join(sensor_dir, \"FinalData\")\n",
    "sensor_indiv_dir = os.path.join(sensor_raw_dir, \"sensor_tracing_individual_data\")"
   ]
  },
  {
   "cell_type": "code",
   "execution_count": 5,
   "id": "558160b4",
   "metadata": {},
   "outputs": [
    {
     "data": {
      "text/plain": [
       "['2022-09-01',\n",
       " '2022-09-02',\n",
       " '2022-09-03',\n",
       " '2022-09-04',\n",
       " '2022-09-05',\n",
       " '2022-09-06',\n",
       " '2022-09-07',\n",
       " '2022-09-08',\n",
       " '2022-09-09',\n",
       " '2022-09-10',\n",
       " '2022-09-11',\n",
       " '2022-09-12',\n",
       " '2022-09-13',\n",
       " '2022-09-14',\n",
       " '2022-09-15',\n",
       " '2022-09-16',\n",
       " '2022-09-17',\n",
       " '2022-09-18',\n",
       " '2022-09-19',\n",
       " '2022-09-20',\n",
       " '2022-09-21',\n",
       " '2022-09-22',\n",
       " '2022-09-23',\n",
       " '2022-09-24',\n",
       " '2022-09-25',\n",
       " '2022-09-26',\n",
       " '2022-09-27',\n",
       " '2022-09-28',\n",
       " '2022-09-29',\n",
       " '2022-09-30',\n",
       " '2022-10-01',\n",
       " '2022-10-02',\n",
       " '2022-10-03',\n",
       " '2022-10-04',\n",
       " '2022-10-05',\n",
       " '2022-10-06',\n",
       " '2022-10-07',\n",
       " '2022-10-08',\n",
       " '2022-10-09',\n",
       " '2022-10-10',\n",
       " '2022-10-11',\n",
       " '2022-10-12',\n",
       " '2022-10-13',\n",
       " '2022-10-14',\n",
       " '2022-10-15',\n",
       " '2022-10-16',\n",
       " '2022-10-17',\n",
       " '2022-10-18',\n",
       " '2022-10-19',\n",
       " '2022-10-20',\n",
       " '2022-10-21',\n",
       " '2022-10-22',\n",
       " '2022-10-23',\n",
       " '2022-10-24',\n",
       " '2022-10-25',\n",
       " '2022-10-26',\n",
       " '2022-10-27',\n",
       " '2022-10-28',\n",
       " '2022-10-29',\n",
       " '2022-10-30',\n",
       " '2022-10-31',\n",
       " '2022-11-01',\n",
       " '2022-11-02',\n",
       " '2022-11-03',\n",
       " '2022-11-04',\n",
       " '2022-11-05',\n",
       " '2022-11-06',\n",
       " '2022-11-07',\n",
       " '2022-11-08',\n",
       " '2022-11-09',\n",
       " '2022-11-10',\n",
       " '2022-11-11',\n",
       " '2022-11-12',\n",
       " '2022-11-13',\n",
       " '2022-11-14',\n",
       " '2022-11-15',\n",
       " '2022-11-16',\n",
       " '2022-11-17',\n",
       " '2022-11-18',\n",
       " '2022-11-19',\n",
       " '2022-11-20',\n",
       " '2022-11-21',\n",
       " '2022-11-22',\n",
       " '2022-11-23',\n",
       " '2022-11-24',\n",
       " '2022-11-25',\n",
       " '2022-11-26',\n",
       " '2022-11-27',\n",
       " '2022-11-28',\n",
       " '2022-11-29',\n",
       " '2022-11-30',\n",
       " '2022-12-01',\n",
       " '2022-12-02',\n",
       " '2022-12-03',\n",
       " '2022-12-04',\n",
       " '2022-12-05',\n",
       " '2022-12-06',\n",
       " '2022-12-07',\n",
       " '2022-12-08',\n",
       " '2022-12-09',\n",
       " '2022-12-10',\n",
       " '2022-12-11',\n",
       " '2022-12-12',\n",
       " '2022-12-13',\n",
       " '2022-12-14',\n",
       " '2022-12-15',\n",
       " '2022-12-16',\n",
       " '2022-12-17',\n",
       " '2022-12-18',\n",
       " '2022-12-19',\n",
       " '2022-12-20',\n",
       " '2022-12-21',\n",
       " '2022-12-22',\n",
       " '2022-12-23',\n",
       " '2022-12-24',\n",
       " '2022-12-25',\n",
       " '2022-12-26',\n",
       " '2022-12-27',\n",
       " '2022-12-28',\n",
       " '2022-12-29',\n",
       " '2022-12-30',\n",
       " '2022-12-31']"
      ]
     },
     "execution_count": 5,
     "metadata": {},
     "output_type": "execute_result"
    }
   ],
   "source": [
    "## set a period of time we want to get the aggregated data \n",
    "start = datetime.strptime(\"2022-9-1\", \"%Y-%m-%d\")\n",
    "date_generated = pd.date_range(start, periods=122)\n",
    "date_range = date_generated.to_native_types().tolist()\n",
    "date_range"
   ]
  },
  {
   "cell_type": "code",
   "execution_count": 6,
   "id": "571c8e64",
   "metadata": {},
   "outputs": [],
   "source": [
    "## a function to obtain a panel data for the whole period of time \n",
    "def time_moving_panel(d_range):\n",
    "    panel_df = pd.DataFrame()\n",
    "    for d in d_range:\n",
    "        one_folder = os.path.join(sensor_indiv_dir,d)\n",
    "        print(one_folder)\n",
    "        one_df = time_mov(one_folder)\n",
    "    \n",
    "        panel_df = pd.concat([panel_df,one_df])\n",
    "    \n",
    "    return panel_df\n",
    "    "
   ]
  },
  {
   "cell_type": "code",
   "execution_count": null,
   "id": "56fca785",
   "metadata": {},
   "outputs": [
    {
     "name": "stdout",
     "output_type": "stream",
     "text": [
      "C:/Users/wb575963/Dropbox/PSV Rider Feedback\\Data\\Sensor Data\\RawData\\sensor_tracing_individual_data\\2022-09-01\n"
     ]
    }
   ],
   "source": [
    "time_dayhr_s = time_moving_panel(date_range)"
   ]
  },
  {
   "cell_type": "code",
   "execution_count": null,
   "id": "409214cb",
   "metadata": {},
   "outputs": [],
   "source": [
    "time_dayhr_s_clean = time_dayhr_s[['day_hr', 'time_mov_s', 'time_spd80_s', 'time_spd100_s','reg_no','date']]"
   ]
  },
  {
   "cell_type": "code",
   "execution_count": null,
   "id": "de4f11af",
   "metadata": {},
   "outputs": [],
   "source": [
    "time_dayhr_s_clean.to_parquet(os.path.join(dropbox_outputs,'time_moving_dayhr.gz.parquet'),\n",
    "              compression='gzip', index = False)"
   ]
  },
  {
   "cell_type": "markdown",
   "id": "639e273e",
   "metadata": {},
   "source": [
    "### Aggregated to daily level"
   ]
  },
  {
   "cell_type": "code",
   "execution_count": null,
   "id": "f94a1d44",
   "metadata": {},
   "outputs": [],
   "source": [
    "time_day_s = time_dayhr_s_clean.groupby(['reg_no','date']).apply(lambda x: pd.Series({'time_mov_s': x['time_mov_s'].sum(),\n",
    "                                                           'time_spd80_s': x['time_spd80_s'].sum(),\n",
    "                                                           'time_spd100_s': x['time_spd100_s'].sum()})).reset_index()\n",
    "time_day_s"
   ]
  },
  {
   "cell_type": "code",
   "execution_count": null,
   "id": "5429fc7a",
   "metadata": {},
   "outputs": [],
   "source": [
    "time_day_s.to_parquet(os.path.join(dropbox_outputs,'time_moving_day.gz.parquet'),\n",
    "              compression='gzip', index = False)"
   ]
  }
 ],
 "metadata": {
  "kernelspec": {
   "display_name": "Python 3 (ipykernel)",
   "language": "python",
   "name": "python3"
  },
  "language_info": {
   "codemirror_mode": {
    "name": "ipython",
    "version": 3
   },
   "file_extension": ".py",
   "mimetype": "text/x-python",
   "name": "python",
   "nbconvert_exporter": "python",
   "pygments_lexer": "ipython3",
   "version": "3.9.7"
  }
 },
 "nbformat": 4,
 "nbformat_minor": 5
}
