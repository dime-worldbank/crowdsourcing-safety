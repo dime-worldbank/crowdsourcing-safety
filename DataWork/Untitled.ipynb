{
 "cells": [
  {
   "cell_type": "markdown",
   "id": "3091e441-0402-4306-90a0-999228f1b92b",
   "metadata": {},
   "source": [
    "## Make QR Codes"
   ]
  },
  {
   "cell_type": "code",
   "execution_count": 1,
   "id": "c5bac33f-97a0-4277-88fe-1cdcd3f7132e",
   "metadata": {},
   "outputs": [
    {
     "name": "stdout",
     "output_type": "stream",
     "text": [
      "Collecting qrcode\n",
      "  Downloading qrcode-7.3.1.tar.gz (43 kB)\n",
      "\u001b[K     |████████████████████████████████| 43 kB 2.1 MB/s eta 0:00:011\n",
      "\u001b[?25hBuilding wheels for collected packages: qrcode\n",
      "  Building wheel for qrcode (setup.py) ... \u001b[?25ldone\n",
      "\u001b[?25h  Created wheel for qrcode: filename=qrcode-7.3.1-py3-none-any.whl size=40402 sha256=59cf0f7a3823c2e03616e3a9680b5c73409f61ca9075ae89f15cab3ea559a58b\n",
      "  Stored in directory: /Users/robmarty/Library/Caches/pip/wheels/35/fd/04/2768886c56207acee0d6dc6b9bd5d06dac63a810f0c0a42516\n",
      "Successfully built qrcode\n",
      "Installing collected packages: qrcode\n",
      "Successfully installed qrcode-7.3.1\n"
     ]
    }
   ],
   "source": [
    "# ! pip install qrcode\n",
    "# ! pip install image"
   ]
  },
  {
   "cell_type": "code",
   "execution_count": 17,
   "id": "acae9258-5132-46de-96c0-1fae8a18d569",
   "metadata": {},
   "outputs": [],
   "source": [
    "import qrcode\n",
    "import image"
   ]
  },
  {
   "cell_type": "code",
   "execution_count": 18,
   "id": "3bf577d6-a430-491d-b834-44597920ee6d",
   "metadata": {},
   "outputs": [],
   "source": [
    "qr = qrcode.QRCode(version=1,\n",
    "    error_correction=qrcode.constants.ERROR_CORRECT_L,\n",
    "    box_size=12,\n",
    "    border=2)"
   ]
  },
  {
   "cell_type": "code",
   "execution_count": 22,
   "id": "68667db1-987f-4f34-9eb8-023e1a5dc23a",
   "metadata": {},
   "outputs": [],
   "source": [
    "data = \"https://www.google.com/\""
   ]
  },
  {
   "cell_type": "code",
   "execution_count": 23,
   "id": "e186601e-af26-4f00-b15a-09355ed9cf8b",
   "metadata": {},
   "outputs": [],
   "source": [
    "qr.add_data(data)\n",
    "qr.make(fit =True)\n",
    "img = qr.make_image(fill = 'Black',back_color = 'White')\n",
    "img.save(\"/Users/robmarty/Desktop/Image4.png\")"
   ]
  },
  {
   "cell_type": "code",
   "execution_count": 21,
   "id": "220c755c-2dcf-4ea6-a35b-4c9bdbc3d678",
   "metadata": {},
   "outputs": [
    {
     "data": {
      "text/plain": [
       "<qrcode.main.QRCode at 0x7ff780b6c430>"
      ]
     },
     "execution_count": 21,
     "metadata": {},
     "output_type": "execute_result"
    }
   ],
   "source": []
  },
  {
   "cell_type": "code",
   "execution_count": 26,
   "id": "a01c0c9f-d615-44b3-9dd1-4a9224888485",
   "metadata": {},
   "outputs": [
    {
     "name": "stdout",
     "output_type": "stream",
     "text": [
      "Requirement already satisfied: pyqrcode in /Users/robmarty/opt/anaconda3/lib/python3.8/site-packages (1.2.1)\n"
     ]
    }
   ],
   "source": [
    "# ! pip install pyqrcode"
   ]
  },
  {
   "cell_type": "code",
   "execution_count": 28,
   "id": "0e4d0163-551e-4799-91e1-5e869c71c22a",
   "metadata": {},
   "outputs": [],
   "source": [
    "import pyqrcode"
   ]
  },
  {
   "cell_type": "code",
   "execution_count": null,
   "id": "eaada017-7ff2-49a7-ac2b-99842cfa9979",
   "metadata": {},
   "outputs": [],
   "source": [
    "pyqrcode.create("
   ]
  }
 ],
 "metadata": {
  "kernelspec": {
   "display_name": "Python 3 (ipykernel)",
   "language": "python",
   "name": "python3"
  },
  "language_info": {
   "codemirror_mode": {
    "name": "ipython",
    "version": 3
   },
   "file_extension": ".py",
   "mimetype": "text/x-python",
   "name": "python",
   "nbconvert_exporter": "python",
   "pygments_lexer": "ipython3",
   "version": "3.8.13"
  }
 },
 "nbformat": 4,
 "nbformat_minor": 5
}
